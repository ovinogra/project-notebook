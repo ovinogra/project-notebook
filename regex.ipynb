{
 "cells": [
  {
   "cell_type": "markdown",
   "metadata": {},
   "source": [
    "# regex cheatsheet\n",
    "\n",
    "I use regular expressions frequently enough, but have to look up half the relevant syntax each time. Maybe if I write my own cheatsheet and compile examples I've come across I'll actually memorize it. "
   ]
  },
  {
   "cell_type": "markdown",
   "metadata": {},
   "source": [
    "## Syntax\n",
    "\n",
    "Quantifiers\n",
    "* `?`: previous character X appears 0 or 1 times\n",
    "* `*`: previous character X appears 0 or more times \n",
    "* `+`: previous character X appears 1 or more times \n",
    "* `{n}`: previous character appears n times \n",
    "\n",
    "Characters\n",
    "* `.`: any character!\n",
    "* `\\d`: digit (0-9) \n",
    "* `\\D`: not a digit\n",
    "* `\\s`: whitespace \n",
    "* `\\S`: not a whitespace \n",
    "* `\\w`: letter, digit, or underscore\n",
    "* `\\W`: not a letter, digit, or underscore (special character)\n",
    "\n",
    "Other\n",
    "* `X|Y`: X or Y\n",
    "* `[^X]`: not X\n",
    "* `()`: grouping \n",
    "* `[]`: one of these characters\n",
    "* `a-z`: range from a to z, can be digits or letters\n",
    "\n",
    "Specific to [Nutrimatic](https://nutrimatic.org/2024/)\n",
    "* `\"team mate\"`: this exact length and maintain space breaks\n",
    "* `<mate>`: anagram of mate \n",
    "* `_`: alphanumeric \n",
    "* `A`: alphabetic  \n",
    "* `#`: numeric \n",
    "* `V`: vowel \n",
    "* `C`: consonant \n"
   ]
  },
  {
   "cell_type": "markdown",
   "metadata": {},
   "source": [
    "### Simple Examples\n",
    "\n",
    "* `c(at|oat)`: `cat` or `coat` \n",
    "* `[a-z]at`: could be 26 words\n",
    "* `#CVCVCVC`: could be `5 minutes`\n",
    "* `go*gle`: could be ggle, gogle, google, gooogle, etc \n",
    "* `(go)*gle`: could be gogle, gogogle, gogogogle, etc "
   ]
  },
  {
   "cell_type": "markdown",
   "metadata": {},
   "source": [
    "## Python Examples\n",
    "\n"
   ]
  },
  {
   "cell_type": "code",
   "execution_count": 1,
   "metadata": {},
   "outputs": [],
   "source": [
    "import re \n",
    "import urllib"
   ]
  },
  {
   "cell_type": "markdown",
   "metadata": {},
   "source": [
    "### 1) Stripping a string\n"
   ]
  },
  {
   "cell_type": "markdown",
   "metadata": {},
   "source": [
    "First a simple parsing example of stripping a given string "
   ]
  },
  {
   "cell_type": "code",
   "execution_count": 2,
   "metadata": {},
   "outputs": [
    {
     "name": "stdout",
     "output_type": "stream",
     "text": [
      "2CATS\n",
      "CATS\n"
     ]
    }
   ],
   "source": [
    "string = '2#C a$_-T#^s*'\n",
    "\n",
    "# strip all but alphanumeric characters and change to uppercase\n",
    "newstring1 = re.sub(r'[^a-zA-Z0-9]','',string).upper()\n",
    "print(newstring1)\n",
    "\n",
    "# strip all but alphabetic characters and change to uppercase\n",
    "newstring2= re.sub(r'[^a-zA-Z]','',string).upper()\n",
    "print(newstring2)"
   ]
  },
  {
   "cell_type": "markdown",
   "metadata": {},
   "source": [
    "### 2) Parsing through a wordlist\n",
    "\n",
    "Wordlists are taken from: \n",
    "* [List of English Words](https://github.com/dwyl/english-words/tree/master)\n",
    "* [Collins Scrabble Dictionary](https://boardgames.stackexchange.com/questions/38366/latest-collins-scrabble-words-list-in-text-file)\n",
    "\n",
    "The `^` and `$` in the query signal the beginning and end of the word."
   ]
  },
  {
   "cell_type": "code",
   "execution_count": 3,
   "metadata": {},
   "outputs": [],
   "source": [
    "def load_words_english():\n",
    "    with open('data/wordlist/words_alpha.txt') as word_file:\n",
    "        valid_words = set(word_file.read().split())\n",
    "    valid_words = [item.upper() for item in valid_words]\n",
    "    return valid_words\n",
    "\n",
    "def load_words_scrabble():\n",
    "    with open('data/wordlist/Collins Scrabble Words (2019).txt') as word_file:\n",
    "        valid_words = set(word_file.read().split())\n",
    "    return valid_words\n",
    "\n",
    "def regexWordSearch(query, wordlist, show=True):\n",
    "    r = re.compile(query.upper())\n",
    "    matches = list(filter(r.match, wordlist))\n",
    "    if show:\n",
    "        print(matches)\n",
    "    return matches\n"
   ]
  },
  {
   "cell_type": "code",
   "execution_count": 4,
   "metadata": {},
   "outputs": [
    {
     "name": "stdout",
     "output_type": "stream",
     "text": [
      "['COAT', 'CAT']\n",
      "['BOBCAT', 'OCICAT', 'RAMCAT', 'MERCAT', 'MUDCAT', 'HEPCAT', 'MUSCAT', 'TIPCAT', 'FORCAT', 'TOMCAT']\n"
     ]
    }
   ],
   "source": [
    "\n",
    "words_english = load_words_english() \n",
    "words_scrabble = load_words_scrabble()\n",
    "\n",
    "ans = regexWordSearch('^c(at|oat)$', words_english)\n",
    "ans = regexWordSearch(\"[a-z]{3}cat$\", words_scrabble)\n"
   ]
  },
  {
   "cell_type": "markdown",
   "metadata": {},
   "source": [
    "### 3) Querying Nutrimatic\n",
    "\n",
    "Simply just converting the query into html and passing the url using `urllib`"
   ]
  },
  {
   "cell_type": "code",
   "execution_count": 5,
   "metadata": {},
   "outputs": [],
   "source": [
    "# max number of solutions on a nutrimatic page is 100\n",
    "tol_number = 10 \n",
    "# weight tolerance - change to 0 to ignore constraint\n",
    "tol_weight = 0\n",
    "\n",
    "\n",
    "def get_raw_data(query):\n",
    "    query = urllib.parse.quote_plus(query) # html syntax\n",
    "    url = 'https://nutrimatic.org/?q='+query+'&go=Go'\n",
    "    text = urllib.request.urlopen(url).read()\n",
    "    text1 = text.decode()\n",
    "    return text1\n",
    "\n",
    "def parse_raw_data(rawdata):\n",
    "    # there's probably a package to do this, oh well\n",
    "    posA = [m.start() for m in re.finditer('<span',rawdata)]\n",
    "    posB = [m.start() for m in re.finditer('</span',rawdata)]\n",
    "\n",
    "    # extract solution and weights\n",
    "    solutions = []\n",
    "    weights = []\n",
    "    for n in range(0,min(len(posA),tol_number)):\n",
    "        word = rawdata[posA[n]+36:posB[n]]\n",
    "        size = float(rawdata[posA[n]+23:posA[n]+32])\n",
    "        solutions.append(word)\n",
    "        weights.append(size)\n",
    "    return solutions,weights\n",
    "\n",
    "def print_results(solutions, weights):\n",
    "    for idx, sol in enumerate(solutions):\n",
    "        if weights[idx] > tol_weight:\n",
    "            print(sol+'\\t'+str(weights[idx])) \n"
   ]
  },
  {
   "cell_type": "markdown",
   "metadata": {},
   "source": [
    "Example query"
   ]
  },
  {
   "cell_type": "code",
   "execution_count": 6,
   "metadata": {},
   "outputs": [
    {
     "name": "stdout",
     "output_type": "stream",
     "text": [
      "asymptote\t2.742922\n",
      "pentasomy\t2.404358\n",
      "mastopexy\t2.395467\n",
      "tapecomys\t2.193147\n",
      "montsapey\t2.108904\n",
      "hypostema\t1.979579\n",
      "mesotrypa\t1.979579\n",
      "samythope\t1.960517\n"
     ]
    }
   ],
   "source": [
    "query = '\"<asympote_>\"'\n",
    "rawdata = get_raw_data(query)\n",
    "solutions,weights = parse_raw_data(rawdata)\n",
    "print_results(solutions, weights)\n"
   ]
  },
  {
   "cell_type": "markdown",
   "metadata": {},
   "source": [
    "Example from the nutrimatic landing page"
   ]
  },
  {
   "cell_type": "code",
   "execution_count": 7,
   "metadata": {},
   "outputs": [
    {
     "name": "stdout",
     "output_type": "stream",
     "text": [
      "facetiously\t2.677221\n",
      "abcdefghijklmnopqrstuvwxyz\t2.27003\n",
      "aeiouy\t1.996981\n"
     ]
    }
   ],
   "source": [
    "query = '\"C*aC*eC*iC*oC*uC*yC*\"'\n",
    "rawdata = get_raw_data(query)\n",
    "solutions,weights = parse_raw_data(rawdata)\n",
    "print_results(solutions, weights)"
   ]
  }
 ],
 "metadata": {
  "kernelspec": {
   "display_name": "mlenv",
   "language": "python",
   "name": "python3"
  },
  "language_info": {
   "codemirror_mode": {
    "name": "ipython",
    "version": 3
   },
   "file_extension": ".py",
   "mimetype": "text/x-python",
   "name": "python",
   "nbconvert_exporter": "python",
   "pygments_lexer": "ipython3",
   "version": "3.10.14"
  }
 },
 "nbformat": 4,
 "nbformat_minor": 2
}
